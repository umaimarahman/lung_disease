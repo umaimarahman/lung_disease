{
 "cells": [
  {
   "cell_type": "code",
   "execution_count": 1,
   "metadata": {},
   "outputs": [],
   "source": [
    "import numpy as np\n",
    "import pandas as pd"
   ]
  },
  {
   "cell_type": "code",
   "execution_count": 2,
   "metadata": {},
   "outputs": [],
   "source": [
    "import matplotlib.pyplot as plt\n",
    "import seaborn as sns\n",
    "%matplotlib inline"
   ]
  },
  {
   "cell_type": "code",
   "execution_count": 3,
   "metadata": {},
   "outputs": [],
   "source": [
    "df = pd.read_csv('dataset_1_3_removedzero.csv')"
   ]
  },
  {
   "cell_type": "code",
   "execution_count": 4,
   "metadata": {},
   "outputs": [
    {
     "name": "stdout",
     "output_type": "stream",
     "text": [
      "[0, 3, 5, 8, 9, 11, 12, 13, 14, 15, 16, 19, 21, 22, 23, 24, 25, 26, 28, 29, 32, 33, 34, 35, 36, 37, 38, 39]\n",
      "[13, 16, 22, 1, 4]\n",
      "[22, 25, 34, 3, 9]\n",
      "[0, 3, 5, 8, 9, 11, 12, 14, 15, 19, 21, 23, 24, 25, 26, 28, 29, 32, 33, 34, 35, 36, 37, 38, 39]\n",
      "[1, 2, 4, 6, 7, 10, 17, 18, 20, 27, 30, 31]\n",
      "[2, 7, 8, 10, 9]\n",
      "[4, 18, 20, 30, 27]\n",
      "[1, 4, 6, 17, 18, 20, 27, 30, 31]\n"
     ]
    }
   ],
   "source": [
    "l = list(range(1,41))\n",
    "np.random.seed(101)\n",
    "row_blind = list(np.random.randint(1,40,5))\n",
    "row_blind\n",
    "row_rem = []\n",
    "for item in l:\n",
    "    if item not in row_blind :\n",
    "        row_rem.append(item)\n",
    "\n",
    "df_three = df[df['Label']==-1]\n",
    "df_three.index\n",
    "\n",
    "index_three = list(df_three.index)\n",
    "index_three \n",
    "\n",
    "print(index_three)\n",
    "\n",
    "##generate 5 random indices that will serve as location to the list index_three for blind set\n",
    "np.random.seed(0)\n",
    "indices_blind = list(np.random.randint(1,len(index_three),5))\n",
    "\n",
    "print(indices_blind)\n",
    "\n",
    "##for the blind index get the 5 rows for the blind set having label 3\n",
    "row_blind_three=[]\n",
    "for index in indices_blind:\n",
    "    row_blind_three.append(index_three[index])\n",
    "    \n",
    "print(row_blind_three)\n",
    "\n",
    "##get the remaining rows having label3 which do not form the blind set \n",
    "row_rem_three=[]\n",
    "for item in index_three:\n",
    "    if item not in indices_blind:\n",
    "        row_rem_three.append(item)\n",
    "        \n",
    "print(row_rem_three)\n",
    "\n",
    "\n",
    "df_one = df[df['Label']==1]\n",
    "df_one.index\n",
    "\n",
    "index_one = list(df_one.index)\n",
    "index_one\n",
    "\n",
    "print(index_one)\n",
    "\n",
    "##generate 5 random indices that will serve as location to the list index_one for blind set\n",
    "np.random.seed(101)\n",
    "indices_blind = list(np.random.randint(1,len(index_one),5))\n",
    "\n",
    "print(indices_blind)\n",
    "\n",
    "##for the blind index get the 5 rows for the blind set having label 1\n",
    "row_blind_one=[]\n",
    "for index in indices_blind:\n",
    "    row_blind_one.append(index_one[index])\n",
    "    \n",
    "print(row_blind_one)\n",
    "\n",
    "##get the remaining rows having label 1 which do not form the blind set \n",
    "row_rem_one=[]\n",
    "for item in index_one:\n",
    "    if item not in indices_blind:\n",
    "        row_rem_one.append(item)\n",
    "        \n",
    "print(row_rem_one)"
   ]
  },
  {
   "cell_type": "code",
   "execution_count": 5,
   "metadata": {},
   "outputs": [],
   "source": [
    "blind3_X = pd.DataFrame(df_three.drop('Label',axis=1),index=row_blind_three)\n",
    "blind3_y = pd.DataFrame(df_three['Label'],index=row_blind_three)"
   ]
  },
  {
   "cell_type": "code",
   "execution_count": 6,
   "metadata": {},
   "outputs": [],
   "source": [
    "rem3_X = pd.DataFrame(df_three.drop('Label',axis=1),index=row_rem_three)\n",
    "rem3_y = pd.DataFrame(df_three['Label'],index=row_rem_three)"
   ]
  },
  {
   "cell_type": "code",
   "execution_count": 7,
   "metadata": {},
   "outputs": [],
   "source": [
    "blind1_X = pd.DataFrame(df_one.drop('Label',axis=1),index=row_blind_one)\n",
    "blind1_y = pd.DataFrame(df_one['Label'],index=row_blind_one)"
   ]
  },
  {
   "cell_type": "code",
   "execution_count": 8,
   "metadata": {},
   "outputs": [],
   "source": [
    "rem1_X = pd.DataFrame(df_one.drop('Label',axis=1),index=row_rem_one)\n",
    "rem1_y = pd.DataFrame(df_one['Label'],index=row_rem_one)"
   ]
  },
  {
   "cell_type": "code",
   "execution_count": 9,
   "metadata": {},
   "outputs": [],
   "source": [
    "row_rem = row_rem_one + row_rem_three"
   ]
  },
  {
   "cell_type": "code",
   "execution_count": 10,
   "metadata": {},
   "outputs": [],
   "source": [
    "df_new = pd.DataFrame(df,index=row_rem)"
   ]
  },
  {
   "cell_type": "code",
   "execution_count": 11,
   "metadata": {},
   "outputs": [],
   "source": [
    "X = df_new.drop('Label',axis=1)\n",
    "y = df_new['Label']"
   ]
  },
  {
   "cell_type": "code",
   "execution_count": 16,
   "metadata": {},
   "outputs": [],
   "source": [
    "df_csv = pd.DataFrame(index=range(0,40),columns=['Threshold','Accuracy','Sensitivity','Specificity','Confusion_Matrix'])"
   ]
  },
  {
   "cell_type": "code",
   "execution_count": 13,
   "metadata": {},
   "outputs": [],
   "source": [
    "from sklearn.naive_bayes import GaussianNB,MultinomialNB"
   ]
  },
  {
   "cell_type": "code",
   "execution_count": 14,
   "metadata": {},
   "outputs": [],
   "source": [
    "from sklearn.metrics import accuracy_score,recall_score,precision_score,confusion_matrix,classification_report"
   ]
  },
  {
   "cell_type": "code",
   "execution_count": 15,
   "metadata": {},
   "outputs": [],
   "source": [
    "from sklearn.model_selection import StratifiedKFold"
   ]
  },
  {
   "cell_type": "code",
   "execution_count": 17,
   "metadata": {},
   "outputs": [],
   "source": [
    "skf=StratifiedKFold(n_splits=10)"
   ]
  },
  {
   "cell_type": "code",
   "execution_count": 18,
   "metadata": {},
   "outputs": [
    {
     "data": {
      "text/plain": [
       "10"
      ]
     },
     "execution_count": 18,
     "metadata": {},
     "output_type": "execute_result"
    }
   ],
   "source": [
    "skf.get_n_splits(X, y)"
   ]
  },
  {
   "cell_type": "code",
   "execution_count": 19,
   "metadata": {},
   "outputs": [
    {
     "name": "stderr",
     "output_type": "stream",
     "text": [
      "C:\\Users\\Umaima\\Anaconda3\\lib\\site-packages\\sklearn\\model_selection\\_split.py:652: Warning: The least populated class in y has only 9 members, which is too few. The minimum number of members in any class cannot be less than n_splits=10.\n",
      "  % (min_groups, self.n_splits)), Warning)\n"
     ]
    },
    {
     "name": "stdout",
     "output_type": "stream",
     "text": [
      "TRAIN: [ 1  2  3  4  5  6  7  8 12 13 14 15 16 17 18 19 20 21 22 23 24 25 26 27\n",
      " 28 29 30 31 32 33] TEST: [ 0  9 10 11]\n",
      "TRAIN: [ 0  2  3  4  5  6  7  8  9 10 11 15 16 17 18 19 20 21 22 23 24 25 26 27\n",
      " 28 29 30 31 32 33] TEST: [ 1 12 13 14]\n",
      "TRAIN: [ 0  1  3  4  5  6  7  8  9 10 11 12 13 14 18 19 20 21 22 23 24 25 26 27\n",
      " 28 29 30 31 32 33] TEST: [ 2 15 16 17]\n",
      "TRAIN: [ 0  1  2  4  5  6  7  8  9 10 11 12 13 14 15 16 17 21 22 23 24 25 26 27\n",
      " 28 29 30 31 32 33] TEST: [ 3 18 19 20]\n",
      "TRAIN: [ 0  1  2  3  5  6  7  8  9 10 11 12 13 14 15 16 17 18 19 20 24 25 26 27\n",
      " 28 29 30 31 32 33] TEST: [ 4 21 22 23]\n",
      "TRAIN: [ 0  1  2  3  4  6  7  8  9 10 11 12 13 14 15 16 17 18 19 20 21 22 23 26\n",
      " 27 28 29 30 31 32 33] TEST: [ 5 24 25]\n",
      "TRAIN: [ 0  1  2  3  4  5  7  8  9 10 11 12 13 14 15 16 17 18 19 20 21 22 23 24\n",
      " 25 28 29 30 31 32 33] TEST: [ 6 26 27]\n",
      "TRAIN: [ 0  1  2  3  4  5  6  8  9 10 11 12 13 14 15 16 17 18 19 20 21 22 23 24\n",
      " 25 26 27 30 31 32 33] TEST: [ 7 28 29]\n",
      "TRAIN: [ 0  1  2  3  4  5  6  7  9 10 11 12 13 14 15 16 17 18 19 20 21 22 23 24\n",
      " 25 26 27 28 29 32 33] TEST: [ 8 30 31]\n",
      "TRAIN: [ 0  1  2  3  4  5  6  7  8  9 10 11 12 13 14 15 16 17 18 19 20 21 22 23\n",
      " 24 25 26 27 28 29 30 31] TEST: [32 33]\n"
     ]
    }
   ],
   "source": [
    "y_pred=[]\n",
    "accuracy=[]\n",
    "sens=[]\n",
    "spec=[]\n",
    "threshold=[]\n",
    "model_num=-1\n",
    "\n",
    "def predict(des, threshold):\n",
    "    if des >= threshold:\n",
    "        y_pred.append(1)\n",
    "    else:\n",
    "        y_pred.append(-1)\n",
    "\n",
    "\n",
    "for train_index, test_index in skf.split(X, y):\n",
    "        \n",
    "    print(\"TRAIN:\", train_index, \"TEST:\", test_index)\n",
    "    \n",
    "    X_train, X_test = X.iloc[train_index], X.iloc[test_index]\n",
    "    y_train, y_test = y.iloc[train_index], y.iloc[test_index]\n",
    "    \n",
    "    model_num=model_num+1\n",
    "    \n",
    "    if(model_num<5):\n",
    "        \n",
    "        nb = MultinomialNB()\n",
    "\n",
    "        nb.fit(X_train,y_train)\n",
    "\n",
    "        des = nb.predict_proba(X_test)[:,1]\n",
    "        \n",
    "        \n",
    "#         fig=plt.figure(figsize=(6,6))\n",
    "#         sns.heatmap(confusion_matrix(y_test,des),annot=True,xticklabels=[-1,1],yticklabels=[-1,1],vmin=0.0,vmax=3.0)\n",
    "#         fig.savefig('heatmap_10cross_{}.png'.format(model_num))\n",
    "        \n",
    "        \n",
    "        df_csv = pd.DataFrame(index=range(0,50),columns=['Threshold','Accuracy','Sensitivity','Specificity','Confusion_Matrix'])\n",
    "\n",
    "        i=0      \n",
    "        for t in np.arange(-2, 3, 0.1):\n",
    "            y_pred = []\n",
    "            for value in des:\n",
    "                predict(value,t)\n",
    "\n",
    "            acc = accuracy_score(y_test,y_pred)\n",
    "            cm = confusion_matrix(y_test,y_pred)\n",
    "            tn, fp, fn, tp = cm.ravel()\n",
    "            sensitivity = tp/(tp+fn)\n",
    "            specificity = tn/(tn+fp)\n",
    "\n",
    "            threshold.append(t)\n",
    "            accuracy.append(acc)\n",
    "            sens.append(sensitivity)\n",
    "            spec.append(specificity)\n",
    "\n",
    "            if(i<50):\n",
    "                df_csv.iloc[i]['Threshold']=t    \n",
    "                df_csv.iloc[i]['Accuracy']=acc\n",
    "                df_csv.iloc[i]['Sensitivity']=sensitivity\n",
    "                df_csv.iloc[i]['Specificity']=specificity\n",
    "                df_csv.iloc[i]['Confusion_Matrix']=cm\n",
    "\n",
    "            i=i+1   \n",
    "\n",
    "    df_csv.to_csv('threshold_plot2_k10_NB{}.csv'.format(model_num),index=False)\n",
    "\n"
   ]
  },
  {
   "cell_type": "code",
   "execution_count": 20,
   "metadata": {},
   "outputs": [],
   "source": [
    "df_avg =pd.DataFrame(index=range(0,50),columns=['Threshold','Accuracy','Sensitivity','Specificity'])\n",
    "\n",
    "for row in range(0,50):\n",
    "    sum_acc=sum_sens=sum_spec=avg_acc=avg_sens=avg_spec=0\n",
    "    for i in range(0,10):\n",
    "        f_i = pd.read_csv('threshold_plot2_k10_NB{}.csv'.format(i))\n",
    "        \n",
    "        sum_acc = sum_acc + f_i['Accuracy'][row]\n",
    "        sum_sens = sum_sens + f_i['Sensitivity'][row]\n",
    "        sum_spec = sum_spec + f_i['Specificity'][row]\n",
    "    \n",
    "    avg_acc = sum_acc/10\n",
    "    avg_sens = sum_sens/10\n",
    "    avg_spec = sum_spec/10\n",
    "    \n",
    "    df_avg.iloc[row]['Threshold'] = df_csv.iloc[row]['Threshold']\n",
    "    df_avg.iloc[row]['Accuracy'] = avg_acc\n",
    "    df_avg.iloc[row]['Sensitivity'] = avg_sens\n",
    "    df_avg.iloc[row]['Specificity'] = avg_spec\n",
    "    \n",
    "df_avg.to_csv('threshold_plot2_Avg_K10_NB.csv',index=False)\n"
   ]
  },
  {
   "cell_type": "code",
   "execution_count": 21,
   "metadata": {},
   "outputs": [
    {
     "data": {
      "image/png": "[encoded data removed]",
      "text/plain": [
       "<Figure size 864x576 with 1 Axes>"
      ]
     },
     "metadata": {
      "needs_background": "light"
     },
     "output_type": "display_data"
    }
   ],
   "source": [
    "fig=plt.figure(figsize=(12,8))\n",
    "\n",
    "x = [-2,-1,0,1,2]\n",
    "y = [0.0,0.2,0.4,0.6,0.8,1.0,1.2]\n",
    "# create an index for each tick position\n",
    "xi = [i for i in x]\n",
    "yi = [i for i in y]\n",
    "\n",
    "# plot the index for the x-values\n",
    "plt.plot(df_avg['Threshold'],df_avg['Accuracy'], 'o-' ,label='Accuracy', lw=2)\n",
    "plt.plot(df_avg['Threshold'],df_avg['Sensitivity'], 'v-', color='red',label='Sensitivity', lw=2)\n",
    "plt.plot(df_avg['Threshold'],df_avg['Specificity'], 's-',  color='green',label='Specificity', lw=2)\n",
    "\n",
    "plt.xticks(xi, x,fontsize=16)\n",
    "plt.yticks(fontsize=16)\n",
    "plt.title('Threshold Dependent Plot for Naive Bayes using 10 Cross Validation', fontsize= 16)\n",
    "plt.xlabel('threshold', fontsize= 16)\n",
    "plt.legend(fontsize= 16) \n",
    "plt.grid()\n",
    "plt.show()\n",
    "\n"
   ]
  },
  {
   "cell_type": "code",
   "execution_count": 22,
   "metadata": {},
   "outputs": [],
   "source": [
    "fig.savefig('threshold_plot2_10cross_validation_NB.png',dpi=300)"
   ]
  },
  {
   "cell_type": "code",
   "execution_count": null,
   "metadata": {},
   "outputs": [],
   "source": []
  }
 ],
 "metadata": {
  "kernelspec": {
   "display_name": "Python 3",
   "language": "python",
   "name": "python3"
  },
  "language_info": {
   "codemirror_mode": {
    "name": "ipython",
    "version": 3
   },
   "file_extension": ".py",
   "mimetype": "text/x-python",
   "name": "python",
   "nbconvert_exporter": "python",
   "pygments_lexer": "ipython3",
   "version": "3.7.3"
  }
 },
 "nbformat": 4,
 "nbformat_minor": 2
}
