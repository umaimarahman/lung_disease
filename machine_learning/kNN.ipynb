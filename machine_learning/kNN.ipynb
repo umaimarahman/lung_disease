{
 "cells": [
  {
   "cell_type": "code",
   "execution_count": 1,
   "metadata": {},
   "outputs": [],
   "source": [
    "import numpy as np\n",
    "import pandas as pd"
   ]
  },
  {
   "cell_type": "code",
   "execution_count": 2,
   "metadata": {},
   "outputs": [],
   "source": [
    "import matplotlib.pyplot as plt\n",
    "import seaborn as sns\n",
    "%matplotlib inline"
   ]
  },
  {
   "cell_type": "code",
   "execution_count": 3,
   "metadata": {},
   "outputs": [],
   "source": [
    "df = pd.read_csv('dataset_1_3_removedzero.csv')"
   ]
  },
  {
   "cell_type": "code",
   "execution_count": 4,
   "metadata": {},
   "outputs": [
    {
     "name": "stdout",
     "output_type": "stream",
     "text": [
      "[0, 3, 5, 8, 9, 11, 12, 13, 14, 15, 16, 19, 21, 22, 23, 24, 25, 26, 28, 29, 32, 33, 34, 35, 36, 37, 38, 39]\n",
      "[13, 16, 22, 1]\n",
      "[22, 25, 34, 3]\n",
      "[0, 3, 5, 8, 9, 11, 12, 14, 15, 19, 21, 23, 24, 25, 26, 28, 29, 32, 33, 34, 35, 36, 37, 38, 39]\n",
      "[1, 2, 4, 6, 7, 10, 17, 18, 20, 27, 30, 31]\n",
      "[2, 7]\n",
      "[4, 18]\n",
      "[1, 4, 6, 10, 17, 18, 20, 27, 30, 31]\n"
     ]
    }
   ],
   "source": [
    "l = list(range(1,41))\n",
    "np.random.seed(101)\n",
    "row_blind = list(np.random.randint(1,40,5))\n",
    "row_blind\n",
    "row_rem = []\n",
    "for item in l:\n",
    "    if item not in row_blind :\n",
    "        row_rem.append(item)\n",
    "\n",
    "df_three = df[df['Label']==-1]\n",
    "df_three.index\n",
    "\n",
    "index_three = list(df_three.index)\n",
    "index_three \n",
    "\n",
    "print(index_three)\n",
    "\n",
    "##generate 4 random indices that will serve as location to the list index_three for blind set\n",
    "np.random.seed(0)\n",
    "indices_blind = list(np.random.randint(1,len(index_three),4))\n",
    "\n",
    "print(indices_blind)\n",
    "\n",
    "##for the blind index get the 5 rows for the blind set having label 3\n",
    "row_blind_three=[]\n",
    "for index in indices_blind:\n",
    "    row_blind_three.append(index_three[index])\n",
    "    \n",
    "print(row_blind_three)\n",
    "\n",
    "##get the remaining rows having label3 which do not form the blind set \n",
    "row_rem_three=[]\n",
    "for item in index_three:\n",
    "    if item not in indices_blind:\n",
    "        row_rem_three.append(item)\n",
    "        \n",
    "print(row_rem_three)\n",
    "\n",
    "\n",
    "df_one = df[df['Label']==1]\n",
    "df_one.index\n",
    "\n",
    "index_one = list(df_one.index)\n",
    "index_one\n",
    "\n",
    "print(index_one)\n",
    "\n",
    "##generate 2 random indices that will serve as location to the list index_one for blind set\n",
    "np.random.seed(101)\n",
    "indices_blind = list(np.random.randint(1,len(index_one),2))\n",
    "\n",
    "print(indices_blind)\n",
    "\n",
    "##for the blind index get the 5 rows for the blind set having label 1\n",
    "row_blind_one=[]\n",
    "for index in indices_blind:\n",
    "    row_blind_one.append(index_one[index])\n",
    "    \n",
    "print(row_blind_one)\n",
    "\n",
    "##get the remaining rows having label 1 which do not form the blind set \n",
    "row_rem_one=[]\n",
    "for item in index_one:\n",
    "    if item not in indices_blind:\n",
    "        row_rem_one.append(item)\n",
    "        \n",
    "print(row_rem_one)"
   ]
  },
  {
   "cell_type": "code",
   "execution_count": 5,
   "metadata": {},
   "outputs": [],
   "source": [
    "# blind3_X = pd.DataFrame(df_three.drop('Label',axis=1),index=row_blind_three)\n",
    "# blind3_y = pd.DataFrame(df_three['Label'],index=row_blind_three)\n",
    "# blind1_X = pd.DataFrame(df_one.drop('Label',axis=1),index=row_blind_one)\n",
    "# blind1_y = pd.DataFrame(df_one['Label'],index=row_blind_one)\n",
    "# rem3_X = pd.DataFrame(df_three.drop('Label',axis=1),index=row_rem_three)\n",
    "# rem3_y = pd.DataFrame(df_three['Label'],index=row_rem_three)\n",
    "# rem1_X = pd.DataFrame(df_one.drop('Label',axis=1),index=row_rem_one)\n",
    "# rem1_y = pd.DataFrame(df_one['Label'],index=row_rem_one)"
   ]
  },
  {
   "cell_type": "code",
   "execution_count": 6,
   "metadata": {},
   "outputs": [],
   "source": [
    "row_blind= row_blind_one + row_blind_three"
   ]
  },
  {
   "cell_type": "code",
   "execution_count": 7,
   "metadata": {},
   "outputs": [],
   "source": [
    "df_blind = pd.DataFrame(df,index=row_blind)"
   ]
  },
  {
   "cell_type": "code",
   "execution_count": 8,
   "metadata": {},
   "outputs": [],
   "source": [
    "blind_X = df_blind.drop('Label',axis=1)\n",
    "blind_y = df_blind['Label']"
   ]
  },
  {
   "cell_type": "code",
   "execution_count": 9,
   "metadata": {},
   "outputs": [],
   "source": [
    "row_rem = row_rem_one + row_rem_three"
   ]
  },
  {
   "cell_type": "code",
   "execution_count": 10,
   "metadata": {},
   "outputs": [],
   "source": [
    "df_new = pd.DataFrame(df,index=row_rem)"
   ]
  },
  {
   "cell_type": "code",
   "execution_count": 11,
   "metadata": {},
   "outputs": [],
   "source": [
    "X = df_new.drop('Label',axis=1)\n",
    "y = df_new['Label']"
   ]
  },
  {
   "cell_type": "code",
   "execution_count": 12,
   "metadata": {},
   "outputs": [],
   "source": [
    "df_knn = pd.DataFrame(index=range(0,10),columns=['Model_Num','Accuracy','Precision','Recall'])"
   ]
  },
  {
   "cell_type": "code",
   "execution_count": 13,
   "metadata": {},
   "outputs": [],
   "source": [
    "from sklearn.neighbors import KNeighborsClassifier"
   ]
  },
  {
   "cell_type": "code",
   "execution_count": 14,
   "metadata": {},
   "outputs": [],
   "source": [
    "from sklearn.metrics import accuracy_score,recall_score,precision_score,confusion_matrix,classification_report"
   ]
  },
  {
   "cell_type": "code",
   "execution_count": 15,
   "metadata": {},
   "outputs": [],
   "source": [
    "from sklearn.model_selection import StratifiedKFold"
   ]
  },
  {
   "cell_type": "code",
   "execution_count": 16,
   "metadata": {},
   "outputs": [],
   "source": [
    "skf=StratifiedKFold(n_splits=10)"
   ]
  },
  {
   "cell_type": "code",
   "execution_count": 17,
   "metadata": {},
   "outputs": [
    {
     "data": {
      "text/plain": [
       "10"
      ]
     },
     "execution_count": 17,
     "metadata": {},
     "output_type": "execute_result"
    }
   ],
   "source": [
    "skf.get_n_splits(X, y)"
   ]
  },
  {
   "cell_type": "code",
   "execution_count": 18,
   "metadata": {},
   "outputs": [
    {
     "name": "stdout",
     "output_type": "stream",
     "text": [
      "TRAIN: [ 1  2  3  4  5  6  7  8  9 13 14 15 16 17 18 19 20 21 22 23 24 25 26 27\n",
      " 28 29 30 31 32 33 34] TEST: [ 0 10 11 12]\n",
      "              precision    recall  f1-score   support\n",
      "\n",
      "          -1       0.67      0.67      0.67         3\n",
      "           1       0.00      0.00      0.00         1\n",
      "\n",
      "   micro avg       0.50      0.50      0.50         4\n",
      "   macro avg       0.33      0.33      0.33         4\n",
      "weighted avg       0.50      0.50      0.50         4\n",
      "\n",
      "0\n",
      "0.5 0.0 0.6666666666666666\n",
      "\n",
      "\n",
      "TRAIN: [ 0  2  3  4  5  6  7  8  9 10 11 12 16 17 18 19 20 21 22 23 24 25 26 27\n",
      " 28 29 30 31 32 33 34] TEST: [ 1 13 14 15]\n",
      "              precision    recall  f1-score   support\n",
      "\n",
      "          -1       0.67      0.67      0.67         3\n",
      "           1       0.00      0.00      0.00         1\n",
      "\n",
      "   micro avg       0.50      0.50      0.50         4\n",
      "   macro avg       0.33      0.33      0.33         4\n",
      "weighted avg       0.50      0.50      0.50         4\n",
      "\n",
      "1\n",
      "0.5 0.0 0.6666666666666666\n",
      "\n",
      "\n",
      "TRAIN: [ 0  1  3  4  5  6  7  8  9 10 11 12 13 14 15 19 20 21 22 23 24 25 26 27\n",
      " 28 29 30 31 32 33 34] TEST: [ 2 16 17 18]\n",
      "              precision    recall  f1-score   support\n",
      "\n",
      "          -1       0.67      0.67      0.67         3\n",
      "           1       0.00      0.00      0.00         1\n",
      "\n",
      "   micro avg       0.50      0.50      0.50         4\n",
      "   macro avg       0.33      0.33      0.33         4\n",
      "weighted avg       0.50      0.50      0.50         4\n",
      "\n",
      "2\n",
      "0.5 0.0 0.6666666666666666\n",
      "\n",
      "\n",
      "TRAIN: [ 0  1  2  4  5  6  7  8  9 10 11 12 13 14 15 16 17 18 22 23 24 25 26 27\n",
      " 28 29 30 31 32 33 34] TEST: [ 3 19 20 21]\n",
      "              precision    recall  f1-score   support\n",
      "\n",
      "          -1       0.67      0.67      0.67         3\n",
      "           1       0.00      0.00      0.00         1\n",
      "\n",
      "   micro avg       0.50      0.50      0.50         4\n",
      "   macro avg       0.33      0.33      0.33         4\n",
      "weighted avg       0.50      0.50      0.50         4\n",
      "\n",
      "3\n",
      "0.5 0.0 0.6666666666666666\n",
      "\n",
      "\n",
      "TRAIN: [ 0  1  2  3  5  6  7  8  9 10 11 12 13 14 15 16 17 18 19 20 21 25 26 27\n",
      " 28 29 30 31 32 33 34] TEST: [ 4 22 23 24]\n",
      "              precision    recall  f1-score   support\n",
      "\n",
      "          -1       1.00      1.00      1.00         3\n",
      "           1       1.00      1.00      1.00         1\n",
      "\n",
      "   micro avg       1.00      1.00      1.00         4\n",
      "   macro avg       1.00      1.00      1.00         4\n",
      "weighted avg       1.00      1.00      1.00         4\n",
      "\n",
      "4\n",
      "1.0 1.0 1.0\n",
      "\n",
      "\n",
      "TRAIN: [ 0  1  2  3  4  6  7  8  9 10 11 12 13 14 15 16 17 18 19 20 21 22 23 24\n",
      " 27 28 29 30 31 32 33 34] TEST: [ 5 25 26]\n",
      "              precision    recall  f1-score   support\n",
      "\n",
      "          -1       0.67      1.00      0.80         2\n",
      "           1       0.00      0.00      0.00         1\n",
      "\n",
      "   micro avg       0.67      0.67      0.67         3\n",
      "   macro avg       0.33      0.50      0.40         3\n",
      "weighted avg       0.44      0.67      0.53         3\n",
      "\n",
      "5\n",
      "0.6666666666666666 0.0 1.0\n",
      "\n",
      "\n",
      "TRAIN: [ 0  1  2  3  4  5  7  8  9 10 11 12 13 14 15 16 17 18 19 20 21 22 23 24\n",
      " 25 26 29 30 31 32 33 34] TEST: [ 6 27 28]\n",
      "              precision    recall  f1-score   support\n",
      "\n",
      "          -1       1.00      1.00      1.00         2\n",
      "           1       1.00      1.00      1.00         1\n",
      "\n",
      "   micro avg       1.00      1.00      1.00         3\n",
      "   macro avg       1.00      1.00      1.00         3\n",
      "weighted avg       1.00      1.00      1.00         3\n",
      "\n",
      "6\n",
      "1.0 1.0 1.0\n",
      "\n",
      "\n",
      "TRAIN: [ 0  1  2  3  4  5  6  8  9 10 11 12 13 14 15 16 17 18 19 20 21 22 23 24\n",
      " 25 26 27 28 31 32 33 34] TEST: [ 7 29 30]\n",
      "              precision    recall  f1-score   support\n",
      "\n",
      "          -1       0.67      1.00      0.80         2\n",
      "           1       0.00      0.00      0.00         1\n",
      "\n",
      "   micro avg       0.67      0.67      0.67         3\n",
      "   macro avg       0.33      0.50      0.40         3\n",
      "weighted avg       0.44      0.67      0.53         3\n",
      "\n",
      "7\n",
      "0.6666666666666666 0.0 1.0\n",
      "\n",
      "\n",
      "TRAIN: [ 0  1  2  3  4  5  6  7  9 10 11 12 13 14 15 16 17 18 19 20 21 22 23 24\n",
      " 25 26 27 28 29 30 33 34] TEST: [ 8 31 32]\n",
      "              precision    recall  f1-score   support\n",
      "\n",
      "          -1       1.00      0.50      0.67         2\n",
      "           1       0.50      1.00      0.67         1\n",
      "\n",
      "   micro avg       0.67      0.67      0.67         3\n",
      "   macro avg       0.75      0.75      0.67         3\n",
      "weighted avg       0.83      0.67      0.67         3\n",
      "\n",
      "8"
     ]
    },
    {
     "name": "stderr",
     "output_type": "stream",
     "text": [
      "C:\\Users\\Umaima\\Anaconda3\\lib\\site-packages\\sklearn\\metrics\\classification.py:1143: UndefinedMetricWarning: Precision and F-score are ill-defined and being set to 0.0 in labels with no predicted samples.\n",
      "  'precision', 'predicted', average, warn_for)\n",
      "C:\\Users\\Umaima\\Anaconda3\\lib\\site-packages\\sklearn\\metrics\\classification.py:1143: UndefinedMetricWarning: Precision and F-score are ill-defined and being set to 0.0 in labels with no predicted samples.\n",
      "  'precision', 'predicted', average, warn_for)\n",
      "C:\\Users\\Umaima\\Anaconda3\\lib\\site-packages\\sklearn\\metrics\\classification.py:1143: UndefinedMetricWarning: Precision and F-score are ill-defined and being set to 0.0 in labels with no predicted samples.\n",
      "  'precision', 'predicted', average, warn_for)\n",
      "C:\\Users\\Umaima\\Anaconda3\\lib\\site-packages\\sklearn\\metrics\\classification.py:1143: UndefinedMetricWarning: Precision is ill-defined and being set to 0.0 due to no predicted samples.\n",
      "  'precision', 'predicted', average, warn_for)\n",
      "C:\\Users\\Umaima\\Anaconda3\\lib\\site-packages\\sklearn\\metrics\\classification.py:1143: UndefinedMetricWarning: Precision and F-score are ill-defined and being set to 0.0 in labels with no predicted samples.\n",
      "  'precision', 'predicted', average, warn_for)\n",
      "C:\\Users\\Umaima\\Anaconda3\\lib\\site-packages\\sklearn\\metrics\\classification.py:1143: UndefinedMetricWarning: Precision and F-score are ill-defined and being set to 0.0 in labels with no predicted samples.\n",
      "  'precision', 'predicted', average, warn_for)\n",
      "C:\\Users\\Umaima\\Anaconda3\\lib\\site-packages\\sklearn\\metrics\\classification.py:1143: UndefinedMetricWarning: Precision and F-score are ill-defined and being set to 0.0 in labels with no predicted samples.\n",
      "  'precision', 'predicted', average, warn_for)\n",
      "C:\\Users\\Umaima\\Anaconda3\\lib\\site-packages\\sklearn\\metrics\\classification.py:1143: UndefinedMetricWarning: Precision is ill-defined and being set to 0.0 due to no predicted samples.\n",
      "  'precision', 'predicted', average, warn_for)\n"
     ]
    },
    {
     "name": "stdout",
     "output_type": "stream",
     "text": [
      "\n",
      "0.6666666666666666 1.0 0.5\n",
      "\n",
      "\n",
      "TRAIN: [ 0  1  2  3  4  5  6  7  8 10 11 12 13 14 15 16 17 18 19 20 21 22 23 24\n",
      " 25 26 27 28 29 30 31 32] TEST: [ 9 33 34]\n",
      "              precision    recall  f1-score   support\n",
      "\n",
      "          -1       1.00      1.00      1.00         2\n",
      "           1       1.00      1.00      1.00         1\n",
      "\n",
      "   micro avg       1.00      1.00      1.00         3\n",
      "   macro avg       1.00      1.00      1.00         3\n",
      "weighted avg       1.00      1.00      1.00         3\n",
      "\n",
      "9\n",
      "1.0 1.0 1.0\n",
      "\n",
      "\n"
     ]
    }
   ],
   "source": [
    "\n",
    "model_num=-1\n",
    "model_train={}\n",
    "model_test={}\n",
    "\n",
    "for train_index, test_index in skf.split(X, y):\n",
    "        \n",
    "    print(\"TRAIN:\", train_index, \"TEST:\", test_index)\n",
    "\n",
    "    X_train, X_test = X.iloc[train_index], X.iloc[test_index]\n",
    "    y_train, y_test = y.iloc[train_index], y.iloc[test_index]\n",
    "    \n",
    "    model_num=model_num+1\n",
    "    \n",
    "    model_train[model_num]= train_index\n",
    "    model_test[model_num]= test_index\n",
    "\n",
    "    \n",
    "    if(model_num<10):\n",
    "        \n",
    "        knn = KNeighborsClassifier(n_neighbors=1)\n",
    "\n",
    "        knn.fit(X_train,y_train)\n",
    "\n",
    "        pred = knn.predict(X_test)\n",
    "        \n",
    "\n",
    "        print(classification_report(y_test,pred))\n",
    "\n",
    "        acc = accuracy_score(y_test,pred)\n",
    "        \n",
    "        pre = precision_score(y_test,pred)\n",
    "        \n",
    "        rec = recall_score(y_test,pred)\n",
    "        \n",
    "        cm = confusion_matrix(y_test,pred)\n",
    "        \n",
    "        if (np.shape(cm)==(2,2)):\n",
    "            tn, fp, fn, tp = cm.ravel()\n",
    "            sensitivity = tp/(tp+fn)\n",
    "            specificity = tn/(tn+fp)\n",
    "            \n",
    "        print(model_num)\n",
    "        print(acc,sensitivity,specificity)\n",
    "        print('\\n')\n",
    "        \n",
    "                \n",
    "        df_knn.iloc[model_num]['Model_Num'] = model_num\n",
    "        df_knn.iloc[model_num]['Accuracy'] = acc\n",
    "        df_knn.iloc[model_num]['Precision'] = pre\n",
    "        df_knn.iloc[model_num]['Recall'] = rec \n",
    "  \n",
    "\n"
   ]
  },
  {
   "cell_type": "code",
   "execution_count": 19,
   "metadata": {},
   "outputs": [
    {
     "data": {
      "text/plain": [
       "{0: array([ 1,  2,  3,  4,  5,  6,  7,  8,  9, 13, 14, 15, 16, 17, 18, 19, 20,\n",
       "        21, 22, 23, 24, 25, 26, 27, 28, 29, 30, 31, 32, 33, 34]),\n",
       " 1: array([ 0,  2,  3,  4,  5,  6,  7,  8,  9, 10, 11, 12, 16, 17, 18, 19, 20,\n",
       "        21, 22, 23, 24, 25, 26, 27, 28, 29, 30, 31, 32, 33, 34]),\n",
       " 2: array([ 0,  1,  3,  4,  5,  6,  7,  8,  9, 10, 11, 12, 13, 14, 15, 19, 20,\n",
       "        21, 22, 23, 24, 25, 26, 27, 28, 29, 30, 31, 32, 33, 34]),\n",
       " 3: array([ 0,  1,  2,  4,  5,  6,  7,  8,  9, 10, 11, 12, 13, 14, 15, 16, 17,\n",
       "        18, 22, 23, 24, 25, 26, 27, 28, 29, 30, 31, 32, 33, 34]),\n",
       " 4: array([ 0,  1,  2,  3,  5,  6,  7,  8,  9, 10, 11, 12, 13, 14, 15, 16, 17,\n",
       "        18, 19, 20, 21, 25, 26, 27, 28, 29, 30, 31, 32, 33, 34]),\n",
       " 5: array([ 0,  1,  2,  3,  4,  6,  7,  8,  9, 10, 11, 12, 13, 14, 15, 16, 17,\n",
       "        18, 19, 20, 21, 22, 23, 24, 27, 28, 29, 30, 31, 32, 33, 34]),\n",
       " 6: array([ 0,  1,  2,  3,  4,  5,  7,  8,  9, 10, 11, 12, 13, 14, 15, 16, 17,\n",
       "        18, 19, 20, 21, 22, 23, 24, 25, 26, 29, 30, 31, 32, 33, 34]),\n",
       " 7: array([ 0,  1,  2,  3,  4,  5,  6,  8,  9, 10, 11, 12, 13, 14, 15, 16, 17,\n",
       "        18, 19, 20, 21, 22, 23, 24, 25, 26, 27, 28, 31, 32, 33, 34]),\n",
       " 8: array([ 0,  1,  2,  3,  4,  5,  6,  7,  9, 10, 11, 12, 13, 14, 15, 16, 17,\n",
       "        18, 19, 20, 21, 22, 23, 24, 25, 26, 27, 28, 29, 30, 33, 34]),\n",
       " 9: array([ 0,  1,  2,  3,  4,  5,  6,  7,  8, 10, 11, 12, 13, 14, 15, 16, 17,\n",
       "        18, 19, 20, 21, 22, 23, 24, 25, 26, 27, 28, 29, 30, 31, 32])}"
      ]
     },
     "execution_count": 19,
     "metadata": {},
     "output_type": "execute_result"
    }
   ],
   "source": [
    "model_train"
   ]
  },
  {
   "cell_type": "code",
   "execution_count": 20,
   "metadata": {},
   "outputs": [
    {
     "data": {
      "text/plain": [
       "{0: array([ 0, 10, 11, 12]),\n",
       " 1: array([ 1, 13, 14, 15]),\n",
       " 2: array([ 2, 16, 17, 18]),\n",
       " 3: array([ 3, 19, 20, 21]),\n",
       " 4: array([ 4, 22, 23, 24]),\n",
       " 5: array([ 5, 25, 26]),\n",
       " 6: array([ 6, 27, 28]),\n",
       " 7: array([ 7, 29, 30]),\n",
       " 8: array([ 8, 31, 32]),\n",
       " 9: array([ 9, 33, 34])}"
      ]
     },
     "execution_count": 20,
     "metadata": {},
     "output_type": "execute_result"
    }
   ],
   "source": [
    "model_test"
   ]
  },
  {
   "cell_type": "code",
   "execution_count": 21,
   "metadata": {},
   "outputs": [
    {
     "data": {
      "text/html": [
       "<div>\n",
       "<style scoped>\n",
       "    .dataframe tbody tr th:only-of-type {\n",
       "        vertical-align: middle;\n",
       "    }\n",
       "\n",
       "    .dataframe tbody tr th {\n",
       "        vertical-align: top;\n",
       "    }\n",
       "\n",
       "    .dataframe thead th {\n",
       "        text-align: right;\n",
       "    }\n",
       "</style>\n",
       "<table border=\"1\" class=\"dataframe\">\n",
       "  <thead>\n",
       "    <tr style=\"text-align: right;\">\n",
       "      <th></th>\n",
       "      <th>Model_Num</th>\n",
       "      <th>Accuracy</th>\n",
       "      <th>Precision</th>\n",
       "      <th>Recall</th>\n",
       "    </tr>\n",
       "  </thead>\n",
       "  <tbody>\n",
       "    <tr>\n",
       "      <th>0</th>\n",
       "      <td>0</td>\n",
       "      <td>0.5</td>\n",
       "      <td>0</td>\n",
       "      <td>0</td>\n",
       "    </tr>\n",
       "    <tr>\n",
       "      <th>1</th>\n",
       "      <td>1</td>\n",
       "      <td>0.5</td>\n",
       "      <td>0</td>\n",
       "      <td>0</td>\n",
       "    </tr>\n",
       "    <tr>\n",
       "      <th>2</th>\n",
       "      <td>2</td>\n",
       "      <td>0.5</td>\n",
       "      <td>0</td>\n",
       "      <td>0</td>\n",
       "    </tr>\n",
       "    <tr>\n",
       "      <th>3</th>\n",
       "      <td>3</td>\n",
       "      <td>0.5</td>\n",
       "      <td>0</td>\n",
       "      <td>0</td>\n",
       "    </tr>\n",
       "    <tr>\n",
       "      <th>4</th>\n",
       "      <td>4</td>\n",
       "      <td>1</td>\n",
       "      <td>1</td>\n",
       "      <td>1</td>\n",
       "    </tr>\n",
       "    <tr>\n",
       "      <th>5</th>\n",
       "      <td>5</td>\n",
       "      <td>0.666667</td>\n",
       "      <td>0</td>\n",
       "      <td>0</td>\n",
       "    </tr>\n",
       "    <tr>\n",
       "      <th>6</th>\n",
       "      <td>6</td>\n",
       "      <td>1</td>\n",
       "      <td>1</td>\n",
       "      <td>1</td>\n",
       "    </tr>\n",
       "    <tr>\n",
       "      <th>7</th>\n",
       "      <td>7</td>\n",
       "      <td>0.666667</td>\n",
       "      <td>0</td>\n",
       "      <td>0</td>\n",
       "    </tr>\n",
       "    <tr>\n",
       "      <th>8</th>\n",
       "      <td>8</td>\n",
       "      <td>0.666667</td>\n",
       "      <td>0.5</td>\n",
       "      <td>1</td>\n",
       "    </tr>\n",
       "    <tr>\n",
       "      <th>9</th>\n",
       "      <td>9</td>\n",
       "      <td>1</td>\n",
       "      <td>1</td>\n",
       "      <td>1</td>\n",
       "    </tr>\n",
       "  </tbody>\n",
       "</table>\n",
       "</div>"
      ],
      "text/plain": [
       "  Model_Num  Accuracy Precision Recall\n",
       "0         0       0.5         0      0\n",
       "1         1       0.5         0      0\n",
       "2         2       0.5         0      0\n",
       "3         3       0.5         0      0\n",
       "4         4         1         1      1\n",
       "5         5  0.666667         0      0\n",
       "6         6         1         1      1\n",
       "7         7  0.666667         0      0\n",
       "8         8  0.666667       0.5      1\n",
       "9         9         1         1      1"
      ]
     },
     "execution_count": 21,
     "metadata": {},
     "output_type": "execute_result"
    }
   ],
   "source": [
    "df_knn"
   ]
  },
  {
   "cell_type": "code",
   "execution_count": 22,
   "metadata": {},
   "outputs": [],
   "source": [
    "df_knn.to_csv('KNN_10cross.csv',index=False)"
   ]
  },
  {
   "cell_type": "code",
   "execution_count": 23,
   "metadata": {},
   "outputs": [
    {
     "name": "stdout",
     "output_type": "stream",
     "text": [
      "[4, 6, 9]\n"
     ]
    }
   ],
   "source": [
    "maxacc = max(df_knn['Accuracy'])\n",
    "#print(maxacc)\n",
    "mn=[]\n",
    "for i in range(0,10):\n",
    "    if(df_knn.iloc[i]['Accuracy']==maxacc and df_knn.iloc[i]['Precision']!=0):\n",
    "        mn.append(df_knn.iloc[i]['Model_Num'])\n",
    "print(mn)\n",
    "id=mn[0]"
   ]
  },
  {
   "cell_type": "code",
   "execution_count": 24,
   "metadata": {},
   "outputs": [
    {
     "data": {
      "text/plain": [
       "4"
      ]
     },
     "execution_count": 24,
     "metadata": {},
     "output_type": "execute_result"
    }
   ],
   "source": [
    "id"
   ]
  },
  {
   "cell_type": "code",
   "execution_count": 25,
   "metadata": {},
   "outputs": [
    {
     "data": {
      "text/plain": [
       "array([ 0,  1,  2,  3,  5,  6,  7,  8,  9, 10, 11, 12, 13, 14, 15, 16, 17,\n",
       "       18, 19, 20, 21, 25, 26, 27, 28, 29, 30, 31, 32, 33, 34])"
      ]
     },
     "execution_count": 25,
     "metadata": {},
     "output_type": "execute_result"
    }
   ],
   "source": [
    "model_train[id]"
   ]
  },
  {
   "cell_type": "code",
   "execution_count": 26,
   "metadata": {},
   "outputs": [
    {
     "data": {
      "text/plain": [
       "array([ 4, 22, 23, 24])"
      ]
     },
     "execution_count": 26,
     "metadata": {},
     "output_type": "execute_result"
    }
   ],
   "source": [
    "model_test[id]"
   ]
  },
  {
   "cell_type": "code",
   "execution_count": 27,
   "metadata": {},
   "outputs": [
    {
     "data": {
      "text/html": [
       "<div>\n",
       "<style scoped>\n",
       "    .dataframe tbody tr th:only-of-type {\n",
       "        vertical-align: middle;\n",
       "    }\n",
       "\n",
       "    .dataframe tbody tr th {\n",
       "        vertical-align: top;\n",
       "    }\n",
       "\n",
       "    .dataframe thead th {\n",
       "        text-align: right;\n",
       "    }\n",
       "</style>\n",
       "<table border=\"1\" class=\"dataframe\">\n",
       "  <thead>\n",
       "    <tr style=\"text-align: right;\">\n",
       "      <th></th>\n",
       "      <th>2001</th>\n",
       "      <th>2002</th>\n",
       "      <th>2003</th>\n",
       "      <th>2004</th>\n",
       "      <th>2005</th>\n",
       "      <th>2006</th>\n",
       "      <th>2007</th>\n",
       "      <th>2008</th>\n",
       "      <th>2009</th>\n",
       "      <th>2010</th>\n",
       "      <th>...</th>\n",
       "      <th>12491</th>\n",
       "      <th>12492</th>\n",
       "      <th>12493</th>\n",
       "      <th>12494</th>\n",
       "      <th>12495</th>\n",
       "      <th>12496</th>\n",
       "      <th>12497</th>\n",
       "      <th>12498</th>\n",
       "      <th>12499</th>\n",
       "      <th>12500</th>\n",
       "    </tr>\n",
       "  </thead>\n",
       "  <tbody>\n",
       "    <tr>\n",
       "      <th>4</th>\n",
       "      <td>0</td>\n",
       "      <td>0</td>\n",
       "      <td>0</td>\n",
       "      <td>0</td>\n",
       "      <td>0</td>\n",
       "      <td>0</td>\n",
       "      <td>0</td>\n",
       "      <td>0</td>\n",
       "      <td>0</td>\n",
       "      <td>0</td>\n",
       "      <td>...</td>\n",
       "      <td>0</td>\n",
       "      <td>0</td>\n",
       "      <td>0</td>\n",
       "      <td>0</td>\n",
       "      <td>0</td>\n",
       "      <td>0</td>\n",
       "      <td>0</td>\n",
       "      <td>0</td>\n",
       "      <td>0</td>\n",
       "      <td>0</td>\n",
       "    </tr>\n",
       "    <tr>\n",
       "      <th>18</th>\n",
       "      <td>0</td>\n",
       "      <td>0</td>\n",
       "      <td>0</td>\n",
       "      <td>0</td>\n",
       "      <td>0</td>\n",
       "      <td>0</td>\n",
       "      <td>0</td>\n",
       "      <td>0</td>\n",
       "      <td>0</td>\n",
       "      <td>0</td>\n",
       "      <td>...</td>\n",
       "      <td>0</td>\n",
       "      <td>0</td>\n",
       "      <td>0</td>\n",
       "      <td>0</td>\n",
       "      <td>0</td>\n",
       "      <td>0</td>\n",
       "      <td>0</td>\n",
       "      <td>0</td>\n",
       "      <td>0</td>\n",
       "      <td>0</td>\n",
       "    </tr>\n",
       "    <tr>\n",
       "      <th>22</th>\n",
       "      <td>0</td>\n",
       "      <td>0</td>\n",
       "      <td>0</td>\n",
       "      <td>0</td>\n",
       "      <td>0</td>\n",
       "      <td>0</td>\n",
       "      <td>0</td>\n",
       "      <td>0</td>\n",
       "      <td>0</td>\n",
       "      <td>0</td>\n",
       "      <td>...</td>\n",
       "      <td>0</td>\n",
       "      <td>0</td>\n",
       "      <td>0</td>\n",
       "      <td>0</td>\n",
       "      <td>0</td>\n",
       "      <td>0</td>\n",
       "      <td>0</td>\n",
       "      <td>0</td>\n",
       "      <td>0</td>\n",
       "      <td>0</td>\n",
       "    </tr>\n",
       "    <tr>\n",
       "      <th>25</th>\n",
       "      <td>0</td>\n",
       "      <td>0</td>\n",
       "      <td>0</td>\n",
       "      <td>0</td>\n",
       "      <td>0</td>\n",
       "      <td>0</td>\n",
       "      <td>0</td>\n",
       "      <td>0</td>\n",
       "      <td>0</td>\n",
       "      <td>0</td>\n",
       "      <td>...</td>\n",
       "      <td>0</td>\n",
       "      <td>0</td>\n",
       "      <td>0</td>\n",
       "      <td>0</td>\n",
       "      <td>0</td>\n",
       "      <td>0</td>\n",
       "      <td>0</td>\n",
       "      <td>0</td>\n",
       "      <td>0</td>\n",
       "      <td>0</td>\n",
       "    </tr>\n",
       "    <tr>\n",
       "      <th>34</th>\n",
       "      <td>0</td>\n",
       "      <td>0</td>\n",
       "      <td>0</td>\n",
       "      <td>0</td>\n",
       "      <td>0</td>\n",
       "      <td>0</td>\n",
       "      <td>0</td>\n",
       "      <td>0</td>\n",
       "      <td>0</td>\n",
       "      <td>0</td>\n",
       "      <td>...</td>\n",
       "      <td>0</td>\n",
       "      <td>0</td>\n",
       "      <td>0</td>\n",
       "      <td>0</td>\n",
       "      <td>0</td>\n",
       "      <td>0</td>\n",
       "      <td>0</td>\n",
       "      <td>0</td>\n",
       "      <td>0</td>\n",
       "      <td>0</td>\n",
       "    </tr>\n",
       "    <tr>\n",
       "      <th>3</th>\n",
       "      <td>0</td>\n",
       "      <td>0</td>\n",
       "      <td>0</td>\n",
       "      <td>0</td>\n",
       "      <td>0</td>\n",
       "      <td>0</td>\n",
       "      <td>0</td>\n",
       "      <td>0</td>\n",
       "      <td>0</td>\n",
       "      <td>0</td>\n",
       "      <td>...</td>\n",
       "      <td>0</td>\n",
       "      <td>0</td>\n",
       "      <td>0</td>\n",
       "      <td>0</td>\n",
       "      <td>0</td>\n",
       "      <td>0</td>\n",
       "      <td>0</td>\n",
       "      <td>0</td>\n",
       "      <td>0</td>\n",
       "      <td>0</td>\n",
       "    </tr>\n",
       "  </tbody>\n",
       "</table>\n",
       "<p>6 rows × 10500 columns</p>\n",
       "</div>"
      ],
      "text/plain": [
       "    2001  2002  2003  2004  2005  2006  2007  2008  2009  2010  ...  12491  \\\n",
       "4      0     0     0     0     0     0     0     0     0     0  ...      0   \n",
       "18     0     0     0     0     0     0     0     0     0     0  ...      0   \n",
       "22     0     0     0     0     0     0     0     0     0     0  ...      0   \n",
       "25     0     0     0     0     0     0     0     0     0     0  ...      0   \n",
       "34     0     0     0     0     0     0     0     0     0     0  ...      0   \n",
       "3      0     0     0     0     0     0     0     0     0     0  ...      0   \n",
       "\n",
       "    12492  12493  12494  12495  12496  12497  12498  12499  12500  \n",
       "4       0      0      0      0      0      0      0      0      0  \n",
       "18      0      0      0      0      0      0      0      0      0  \n",
       "22      0      0      0      0      0      0      0      0      0  \n",
       "25      0      0      0      0      0      0      0      0      0  \n",
       "34      0      0      0      0      0      0      0      0      0  \n",
       "3       0      0      0      0      0      0      0      0      0  \n",
       "\n",
       "[6 rows x 10500 columns]"
      ]
     },
     "execution_count": 27,
     "metadata": {},
     "output_type": "execute_result"
    }
   ],
   "source": [
    "blind_X"
   ]
  },
  {
   "cell_type": "code",
   "execution_count": 28,
   "metadata": {},
   "outputs": [
    {
     "data": {
      "text/plain": [
       "4     1\n",
       "18    1\n",
       "22   -1\n",
       "25   -1\n",
       "34   -1\n",
       "3    -1\n",
       "Name: Label, dtype: int64"
      ]
     },
     "execution_count": 28,
     "metadata": {},
     "output_type": "execute_result"
    }
   ],
   "source": [
    "blind_y"
   ]
  },
  {
   "cell_type": "code",
   "execution_count": 29,
   "metadata": {},
   "outputs": [
    {
     "name": "stdout",
     "output_type": "stream",
     "text": [
      "TRAIN: [ 0  1  2  3  5  6  7  8  9 10 11 12 13 14 15 16 17 18 19 20 21 25 26 27\n",
      " 28 29 30 31 32 33 34] TEST: [ 4 22 23 24]\n",
      "[[4 0]\n",
      " [0 2]]\n",
      "              precision    recall  f1-score   support\n",
      "\n",
      "          -1       1.00      1.00      1.00         4\n",
      "           1       1.00      1.00      1.00         2\n",
      "\n",
      "   micro avg       1.00      1.00      1.00         6\n",
      "   macro avg       1.00      1.00      1.00         6\n",
      "weighted avg       1.00      1.00      1.00         6\n",
      "\n",
      "Accuracy : 1.0\n",
      "Sensitivity:  1.0\n",
      "Specificity:  1.0\n",
      "Positive Predictive Value:  1.0\n"
     ]
    }
   ],
   "source": [
    "X_tr, X_te = X.iloc[model_train[id]], X.iloc[model_test[id]]\n",
    "y_tr, y_te = y.iloc[model_train[id]], y.iloc[model_test[id]]\n",
    "\n",
    "print(\"TRAIN:\",model_train[id] , \"TEST:\", model_test[id])\n",
    "\n",
    "bestmodel = KNeighborsClassifier(n_neighbors=1)\n",
    "\n",
    "bestmodel.fit(X_tr,y_tr)\n",
    "\n",
    "blind_pred = bestmodel.predict(blind_X)\n",
    "\n",
    "tn,fp,fn,tp=confusion_matrix(blind_y,blind_pred).ravel()\n",
    "\n",
    "sens = tp/(tp+fn)\n",
    "spec = tn/(tn+fp)\n",
    "ppv = tp/(tp+fp)\n",
    "\n",
    "print(confusion_matrix(blind_y,blind_pred))\n",
    "\n",
    "print(classification_report(blind_y,blind_pred))\n",
    "\n",
    "print('Accuracy :',accuracy_score(blind_y,blind_pred))\n",
    "\n",
    "print('Sensitivity: ',sens)\n",
    "\n",
    "print('Specificity: ',spec)\n",
    "\n",
    "print('Positive Predictive Value: ',ppv)\n"
   ]
  },
  {
   "cell_type": "code",
   "execution_count": 30,
   "metadata": {},
   "outputs": [
    {
     "data": {
      "image/png": "[encoded data removed]",
      "text/plain": [
       "<Figure size 432x432 with 2 Axes>"
      ]
     },
     "metadata": {
      "needs_background": "light"
     },
     "output_type": "display_data"
    }
   ],
   "source": [
    "fig=plt.figure(figsize=(6,6))\n",
    "sns.heatmap(confusion_matrix(blind_y,blind_pred),annot=True,xticklabels=[-1,1],yticklabels=[-1,1])\n",
    "plt.xlabel('Predicted',fontsize=20)\n",
    "plt.ylabel('Actual',fontsize=20)\n",
    "plt.title('Confusion Matrix for Blind Test on kNN using 10-cross validation',fontsize=16)\n",
    "fig.savefig('heatmap_10cross_KNN_blind.png',dpi=300)\n"
   ]
  },
  {
   "cell_type": "code",
   "execution_count": null,
   "metadata": {},
   "outputs": [],
   "source": []
  },
  {
   "cell_type": "code",
   "execution_count": null,
   "metadata": {},
   "outputs": [],
   "source": []
  },
  {
   "cell_type": "code",
   "execution_count": null,
   "metadata": {},
   "outputs": [],
   "source": []
  },
  {
   "cell_type": "code",
   "execution_count": null,
   "metadata": {},
   "outputs": [],
   "source": []
  },
  {
   "cell_type": "code",
   "execution_count": 31,
   "metadata": {},
   "outputs": [
    {
     "name": "stdout",
     "output_type": "stream",
     "text": [
      "0.7\n",
      "0.35\n",
      "0.4\n"
     ]
    }
   ],
   "source": [
    "sum_acc = sum_pre = sum_rec= 0\n",
    "for i in range(0,10):\n",
    "    sum_acc =sum_acc + df_knn.iloc[i]['Accuracy']\n",
    "    sum_pre = sum_pre + df_knn.iloc[i]['Precision']\n",
    "    sum_rec = sum_rec + df_knn.iloc[i]['Recall']\n",
    "avg_acc = sum_acc/10\n",
    "avg_pre = sum_pre/10\n",
    "avg_rec = sum_rec/10\n",
    "print(avg_acc)\n",
    "print(avg_pre)\n",
    "print(avg_rec)"
   ]
  },
  {
   "cell_type": "code",
   "execution_count": 32,
   "metadata": {},
   "outputs": [
    {
     "data": {
      "image/png": "[encoded data removed]",
      "text/plain": [
       "<Figure size 864x576 with 1 Axes>"
      ]
     },
     "metadata": {
      "needs_background": "light"
     },
     "output_type": "display_data"
    }
   ],
   "source": [
    "fig=plt.figure(figsize=(12,8))\n",
    "\n",
    "x = [-0.5,0,1,2,3,4,5,6,7,8,9,9.5]\n",
    "y = [0.0,0.2,0.4,0.6,0.8,1.0,1.2]\n",
    "# create an index for each tick position\n",
    "xi = [i for i in x]\n",
    "yi = [i for i in y]\n",
    "\n",
    "# plot the index for the x-values\n",
    "plt.plot(df_knn['Model_Num'],df_knn['Accuracy'], 'o-' ,color='blue',label='Accuracy', lw=2)\n",
    "plt.plot(df_knn['Model_Num'],df_knn['Precision'], 'v-', color='orange',label='Precision', lw=2)\n",
    "plt.plot(df_knn['Model_Num'],df_knn['Recall'], 's--',  color='red',label='Recall', lw=2)\n",
    "\n",
    "plt.xticks(xi, x,fontsize=16)\n",
    "plt.yticks(fontsize=16)\n",
    "plt.title('KNN PLot for 10 cross validation ', fontsize= 20)\n",
    "plt.xlabel('Model_Num', fontsize= 16)\n",
    "plt.legend(fontsize= 16) \n",
    "plt.grid()\n",
    "plt.show()\n",
    "fig.savefig('KNN PLot for 10 cross validation blind.png')"
   ]
  },
  {
   "cell_type": "code",
   "execution_count": null,
   "metadata": {},
   "outputs": [],
   "source": []
  }
 ],
 "metadata": {
  "kernelspec": {
   "display_name": "Python 3",
   "language": "python",
   "name": "python3"
  },
  "language_info": {
   "codemirror_mode": {
    "name": "ipython",
    "version": 3
   },
   "file_extension": ".py",
   "mimetype": "text/x-python",
   "name": "python",
   "nbconvert_exporter": "python",
   "pygments_lexer": "ipython3",
   "version": "3.7.3"
  }
 },
 "nbformat": 4,
 "nbformat_minor": 2
}
